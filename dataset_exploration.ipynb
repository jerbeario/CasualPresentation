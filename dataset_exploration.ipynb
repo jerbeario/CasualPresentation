{
 "cells": [
  {
   "cell_type": "code",
   "execution_count": 1,
   "id": "initial_id",
   "metadata": {
    "collapsed": true,
    "ExecuteTime": {
     "end_time": "2025-02-27T14:02:08.283386Z",
     "start_time": "2025-02-27T14:01:47.089401Z"
    }
   },
   "outputs": [],
   "source": [
    "import pandas as pd"
   ]
  },
  {
   "cell_type": "markdown",
   "source": [],
   "metadata": {
    "collapsed": false
   },
   "id": "276042eb1d1bccac"
  },
  {
   "cell_type": "code",
   "outputs": [],
   "source": [
    "fname = \"abortion.dta\"\n",
    "df = pd.read_stata(fname)"
   ],
   "metadata": {
    "collapsed": false,
    "ExecuteTime": {
     "end_time": "2025-02-27T14:29:37.091659Z",
     "start_time": "2025-02-27T14:29:37.073837Z"
    }
   },
   "id": "e35e89925de8d95d",
   "execution_count": 14
  },
  {
   "cell_type": "code",
   "outputs": [
    {
     "data": {
      "text/plain": "       fip age  race  year  sex  totpop           ir     crack  alcohol  \\\n0        1  30     2  1985    1   78805   371.475800  0.217438     1.90   \n1        1  15     1  1985    2  224003    51.389252  0.217438     1.90   \n2        1  20     2  1985    2   94113   390.875671  0.217438     1.90   \n3        1  20     1  1985    1  252076   100.836800  0.217438     1.90   \n4        1  20     2  1985    1   94113   390.875671  0.217438     1.90   \n...    ...  ..   ...   ...  ...     ...          ...       ...      ...   \n19579   56  15     1  2000    1   36639   195.797516  0.113628     2.46   \n19580   56  25     2  2000    2     313  2666.666748  0.113628     2.46   \n19581   56  30     1  2000    1   26371   346.859619  0.113628     2.46   \n19582   56  35     1  2000    1   32562   365.876282  0.113628     2.46   \n19583   56  40     2  2000    2     267     0.000000  0.113628     2.46   \n\n        income  ...  repeal       acc  wht  male       lnr   t  younger  \\\n0      11566.0  ...       0  0.679504    0     1  7.880880   1        0   \n1      11566.0  ...       0  0.679504    1     0  6.362165   1        1   \n2      11566.0  ...       0  0.679504    0     0  8.917793   1        0   \n3      11566.0  ...       0  0.679504    1     1  5.906995   1        0   \n4      11566.0  ...       0  0.679504    0     1  9.072009   1        0   \n...        ...  ...     ...       ...  ...   ...       ...  ..      ...   \n19579  28460.0  ...       0  2.844398    1     1  1.667707  16        1   \n19580  28460.0  ...       0  2.844398    0     0       NaN  16        0   \n19581  28460.0  ...       0  2.844398    1     1  2.701361  16        0   \n19582  28460.0  ...       0  2.844398    1     1  3.214868  16        0   \n19583  28460.0  ...       0  2.844398    0     0       NaN  16        0   \n\n          fa  pi  bf15  \n0        NaN   0     0  \n1        1.0   0     0  \n2        NaN   0     0  \n3        NaN   0     0  \n4        NaN   0     0  \n...      ...  ..   ...  \n19579  101.0   1     0  \n19580  102.0   0     0  \n19581    NaN   0     0  \n19582    NaN   0     0  \n19583    NaN   0     0  \n\n[19584 rows x 22 columns]",
      "text/html": "<div>\n<style scoped>\n    .dataframe tbody tr th:only-of-type {\n        vertical-align: middle;\n    }\n\n    .dataframe tbody tr th {\n        vertical-align: top;\n    }\n\n    .dataframe thead th {\n        text-align: right;\n    }\n</style>\n<table border=\"1\" class=\"dataframe\">\n  <thead>\n    <tr style=\"text-align: right;\">\n      <th></th>\n      <th>fip</th>\n      <th>age</th>\n      <th>race</th>\n      <th>year</th>\n      <th>sex</th>\n      <th>totpop</th>\n      <th>ir</th>\n      <th>crack</th>\n      <th>alcohol</th>\n      <th>income</th>\n      <th>...</th>\n      <th>repeal</th>\n      <th>acc</th>\n      <th>wht</th>\n      <th>male</th>\n      <th>lnr</th>\n      <th>t</th>\n      <th>younger</th>\n      <th>fa</th>\n      <th>pi</th>\n      <th>bf15</th>\n    </tr>\n  </thead>\n  <tbody>\n    <tr>\n      <th>0</th>\n      <td>1</td>\n      <td>30</td>\n      <td>2</td>\n      <td>1985</td>\n      <td>1</td>\n      <td>78805</td>\n      <td>371.475800</td>\n      <td>0.217438</td>\n      <td>1.90</td>\n      <td>11566.0</td>\n      <td>...</td>\n      <td>0</td>\n      <td>0.679504</td>\n      <td>0</td>\n      <td>1</td>\n      <td>7.880880</td>\n      <td>1</td>\n      <td>0</td>\n      <td>NaN</td>\n      <td>0</td>\n      <td>0</td>\n    </tr>\n    <tr>\n      <th>1</th>\n      <td>1</td>\n      <td>15</td>\n      <td>1</td>\n      <td>1985</td>\n      <td>2</td>\n      <td>224003</td>\n      <td>51.389252</td>\n      <td>0.217438</td>\n      <td>1.90</td>\n      <td>11566.0</td>\n      <td>...</td>\n      <td>0</td>\n      <td>0.679504</td>\n      <td>1</td>\n      <td>0</td>\n      <td>6.362165</td>\n      <td>1</td>\n      <td>1</td>\n      <td>1.0</td>\n      <td>0</td>\n      <td>0</td>\n    </tr>\n    <tr>\n      <th>2</th>\n      <td>1</td>\n      <td>20</td>\n      <td>2</td>\n      <td>1985</td>\n      <td>2</td>\n      <td>94113</td>\n      <td>390.875671</td>\n      <td>0.217438</td>\n      <td>1.90</td>\n      <td>11566.0</td>\n      <td>...</td>\n      <td>0</td>\n      <td>0.679504</td>\n      <td>0</td>\n      <td>0</td>\n      <td>8.917793</td>\n      <td>1</td>\n      <td>0</td>\n      <td>NaN</td>\n      <td>0</td>\n      <td>0</td>\n    </tr>\n    <tr>\n      <th>3</th>\n      <td>1</td>\n      <td>20</td>\n      <td>1</td>\n      <td>1985</td>\n      <td>1</td>\n      <td>252076</td>\n      <td>100.836800</td>\n      <td>0.217438</td>\n      <td>1.90</td>\n      <td>11566.0</td>\n      <td>...</td>\n      <td>0</td>\n      <td>0.679504</td>\n      <td>1</td>\n      <td>1</td>\n      <td>5.906995</td>\n      <td>1</td>\n      <td>0</td>\n      <td>NaN</td>\n      <td>0</td>\n      <td>0</td>\n    </tr>\n    <tr>\n      <th>4</th>\n      <td>1</td>\n      <td>20</td>\n      <td>2</td>\n      <td>1985</td>\n      <td>1</td>\n      <td>94113</td>\n      <td>390.875671</td>\n      <td>0.217438</td>\n      <td>1.90</td>\n      <td>11566.0</td>\n      <td>...</td>\n      <td>0</td>\n      <td>0.679504</td>\n      <td>0</td>\n      <td>1</td>\n      <td>9.072009</td>\n      <td>1</td>\n      <td>0</td>\n      <td>NaN</td>\n      <td>0</td>\n      <td>0</td>\n    </tr>\n    <tr>\n      <th>...</th>\n      <td>...</td>\n      <td>...</td>\n      <td>...</td>\n      <td>...</td>\n      <td>...</td>\n      <td>...</td>\n      <td>...</td>\n      <td>...</td>\n      <td>...</td>\n      <td>...</td>\n      <td>...</td>\n      <td>...</td>\n      <td>...</td>\n      <td>...</td>\n      <td>...</td>\n      <td>...</td>\n      <td>...</td>\n      <td>...</td>\n      <td>...</td>\n      <td>...</td>\n      <td>...</td>\n    </tr>\n    <tr>\n      <th>19579</th>\n      <td>56</td>\n      <td>15</td>\n      <td>1</td>\n      <td>2000</td>\n      <td>1</td>\n      <td>36639</td>\n      <td>195.797516</td>\n      <td>0.113628</td>\n      <td>2.46</td>\n      <td>28460.0</td>\n      <td>...</td>\n      <td>0</td>\n      <td>2.844398</td>\n      <td>1</td>\n      <td>1</td>\n      <td>1.667707</td>\n      <td>16</td>\n      <td>1</td>\n      <td>101.0</td>\n      <td>1</td>\n      <td>0</td>\n    </tr>\n    <tr>\n      <th>19580</th>\n      <td>56</td>\n      <td>25</td>\n      <td>2</td>\n      <td>2000</td>\n      <td>2</td>\n      <td>313</td>\n      <td>2666.666748</td>\n      <td>0.113628</td>\n      <td>2.46</td>\n      <td>28460.0</td>\n      <td>...</td>\n      <td>0</td>\n      <td>2.844398</td>\n      <td>0</td>\n      <td>0</td>\n      <td>NaN</td>\n      <td>16</td>\n      <td>0</td>\n      <td>102.0</td>\n      <td>0</td>\n      <td>0</td>\n    </tr>\n    <tr>\n      <th>19581</th>\n      <td>56</td>\n      <td>30</td>\n      <td>1</td>\n      <td>2000</td>\n      <td>1</td>\n      <td>26371</td>\n      <td>346.859619</td>\n      <td>0.113628</td>\n      <td>2.46</td>\n      <td>28460.0</td>\n      <td>...</td>\n      <td>0</td>\n      <td>2.844398</td>\n      <td>1</td>\n      <td>1</td>\n      <td>2.701361</td>\n      <td>16</td>\n      <td>0</td>\n      <td>NaN</td>\n      <td>0</td>\n      <td>0</td>\n    </tr>\n    <tr>\n      <th>19582</th>\n      <td>56</td>\n      <td>35</td>\n      <td>1</td>\n      <td>2000</td>\n      <td>1</td>\n      <td>32562</td>\n      <td>365.876282</td>\n      <td>0.113628</td>\n      <td>2.46</td>\n      <td>28460.0</td>\n      <td>...</td>\n      <td>0</td>\n      <td>2.844398</td>\n      <td>1</td>\n      <td>1</td>\n      <td>3.214868</td>\n      <td>16</td>\n      <td>0</td>\n      <td>NaN</td>\n      <td>0</td>\n      <td>0</td>\n    </tr>\n    <tr>\n      <th>19583</th>\n      <td>56</td>\n      <td>40</td>\n      <td>2</td>\n      <td>2000</td>\n      <td>2</td>\n      <td>267</td>\n      <td>0.000000</td>\n      <td>0.113628</td>\n      <td>2.46</td>\n      <td>28460.0</td>\n      <td>...</td>\n      <td>0</td>\n      <td>2.844398</td>\n      <td>0</td>\n      <td>0</td>\n      <td>NaN</td>\n      <td>16</td>\n      <td>0</td>\n      <td>NaN</td>\n      <td>0</td>\n      <td>0</td>\n    </tr>\n  </tbody>\n</table>\n<p>19584 rows × 22 columns</p>\n</div>"
     },
     "execution_count": 15,
     "metadata": {},
     "output_type": "execute_result"
    }
   ],
   "source": [
    "df"
   ],
   "metadata": {
    "collapsed": false,
    "ExecuteTime": {
     "end_time": "2025-02-27T14:29:37.549490Z",
     "start_time": "2025-02-27T14:29:37.531443Z"
    }
   },
   "id": "47d41553d9004aa3",
   "execution_count": 15
  },
  {
   "cell_type": "code",
   "outputs": [
    {
     "data": {
      "text/plain": "Index(['year', 'sid', 'robbery_gun_r', 'jhcitizen_c', 'jhpolice_c', 'homicide',\n       'robbery', 'assault', 'burglary', 'larceny',\n       ...\n       'lead7', 'lead8', 'lead9', 'lag0', 'lag1', 'lag2', 'lag3', 'lag4',\n       'lag5', 'popwt'],\n      dtype='object', length=139)"
     },
     "execution_count": 7,
     "metadata": {},
     "output_type": "execute_result"
    }
   ],
   "source": [
    "df.columns"
   ],
   "metadata": {
    "collapsed": false,
    "ExecuteTime": {
     "end_time": "2025-02-27T14:04:50.405164Z",
     "start_time": "2025-02-27T14:04:50.401947Z"
    }
   },
   "id": "c1631a9037f9a3a7",
   "execution_count": 7
  },
  {
   "cell_type": "code",
   "outputs": [],
   "source": [],
   "metadata": {
    "collapsed": false
   },
   "id": "8e100356f75a8e57"
  }
 ],
 "metadata": {
  "kernelspec": {
   "display_name": "Python 3",
   "language": "python",
   "name": "python3"
  },
  "language_info": {
   "codemirror_mode": {
    "name": "ipython",
    "version": 2
   },
   "file_extension": ".py",
   "mimetype": "text/x-python",
   "name": "python",
   "nbconvert_exporter": "python",
   "pygments_lexer": "ipython2",
   "version": "2.7.6"
  }
 },
 "nbformat": 4,
 "nbformat_minor": 5
}
